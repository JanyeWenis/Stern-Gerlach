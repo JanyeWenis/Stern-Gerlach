{
 "cells": [
  {
   "cell_type": "code",
   "execution_count": 237,
   "id": "1b31c9b3",
   "metadata": {},
   "outputs": [],
   "source": [
    "#stern gerlach experiment"
   ]
  },
  {
   "cell_type": "code",
   "execution_count": 238,
   "id": "bc3ef0ef",
   "metadata": {},
   "outputs": [],
   "source": [
    "from sequence.kernel.timeline import Timeline\n",
    "from sequence.topology.node import Node\n",
    "from sequence.components.detector import Detector\n",
    "from sequence.components.photon import Photon\n",
    "from sequence.components.memory import Memory\n",
    "from sequence.kernel.process import Process\n",
    "from sequence.kernel.quantum_state import State\n",
    "from sequence.kernel.event import Event\n",
    "from sequence.components.optical_channel import QuantumChannel\n",
    "import numpy as np"
   ]
  },
  {
   "cell_type": "code",
   "execution_count": 239,
   "id": "9b151c0f",
   "metadata": {},
   "outputs": [],
   "source": [
    "#state = State(complex(1/np.sqrt(2)), complex(1/np.sqrt(2)))\n",
    "#photon = Photon(\"photon\", self.timeline, quantum_state=state)\n",
    "#append this to the init after fixing everything else"
   ]
  },
  {
   "cell_type": "markdown",
   "id": "2bf04129",
   "metadata": {},
   "source": [
    "making the nodes that have the appropriate components for stern gerlach"
   ]
  },
  {
   "cell_type": "code",
   "execution_count": 240,
   "id": "14392028",
   "metadata": {},
   "outputs": [],
   "source": [
    "class sendernode(Node):\n",
    "    def __init__(self, name, timeline, seed=None, gate_fid = 1, meas_fid = 1):\n",
    "        super().__init__(name, timeline, seed, gate_fid, meas_fid)\n",
    "        memo_name = \"{name}.name\" \n",
    "        memo = Memory(memo_name, timeline, 1, 500, 1, -1, 500)\n",
    "        self.memo = memo\n",
    "        memo.add_receiver(self)\n",
    "        self.add_component(memo)\n",
    "        qubit_name = f\"{name}.qubit\"\n",
    "        self.qubit = Photon(qubit_name, timeline, 500, self.memo)\n",
    "        alpha = (1/np.sqrt(2))\n",
    "        beta = (1/np.sqrt(2))\n",
    "        state_vector=[complex(alpha), complex(beta)]\n",
    "        self.qubit.set_state(state_vector)\n",
    "\n",
    "    #def send_qubit(self, qubit, **kwargs):\n",
    "    #   dst = kwargs[\"dst\"]\n",
    "    #   super().send_qubit(dst, self.qubit)\n",
    "\n",
    "    def emit(self, dst): #memo : Memory)\n",
    "        photon = self.qubit\n",
    "        #state = State(complex(1/np.sqrt(2)), complex(1/np.sqrt(2)))\n",
    "        #photon.set_state(state)\n",
    "        #memo.update_state(state)\n",
    "        #self.receive_qubit(memo, photon)\n",
    "        self.send_qubit(dst,photon) #have to eliminate initialising photon inside the emit function, maybe make it an arg in the init."
   ]
  },
  {
   "cell_type": "code",
   "execution_count": 241,
   "id": "b5f4a25f",
   "metadata": {},
   "outputs": [],
   "source": [
    "class detector(Node):\n",
    "    def __init__(self, name, timeline, seed=None, gate_fid = 1, meas_fid = 1):\n",
    "        super().__init__(name, timeline, seed, gate_fid, meas_fid)\n",
    "        self.results = []\n",
    "        detector_name = f\"{name}_name\" \n",
    "        det = Detector(detector_name, timeline, 1)\n",
    "        self.add_component(det)\n",
    "        det.add_receiver(self)\n",
    "        self.det = det\n",
    "    def receive_qubit(self, src, qubit : Photon):\n",
    "        prob = np.abs(qubit.quantum_state.state) ** 2\n",
    "        result = np.random.choice(2, p=prob)\n",
    "        self.results.append(result)\n",
    "        ...\n",
    "        print(f\"received qubit from {src} is : {1 if result == 1 else 0}\")"
   ]
  },
  {
   "cell_type": "code",
   "execution_count": 242,
   "id": "9b1925c5",
   "metadata": {},
   "outputs": [
    {
     "name": "stdout",
     "output_type": "stream",
     "text": [
      "received qubit from sender is : 0\n",
      "received qubit from sender is : 0\n",
      "received qubit from sender is : 1\n",
      "received qubit from sender is : 0\n"
     ]
    }
   ],
   "source": [
    "timeline = Timeline()\n",
    "sender = sendernode(\"sender\", timeline)\n",
    "observe = detector(\"detector\", timeline)\n",
    "sender.set_seed(0)\n",
    "observe.set_seed(1)\n",
    "qc = QuantumChannel(\"qc\", timeline, 0, 500)\n",
    "qc.set_ends(sender, observe.name)  \n",
    "timeline.init()\n",
    "sender.emit(dst=observe.name)\n",
    "observe.receive_qubit(sender, sender.qubit)\n",
    "process1 = Process(sender, \"emit\", [(observe.name)]) #might not work due to photon being initialised inside the function itself \n",
    "process2 = Process(observe, \"receive_qubit\", [sender, sender.qubit])\n",
    "event1 = Event(0, process1)\n",
    "event2 = Event(1,process2)\n",
    "timeline.schedule(event1)\n",
    "timeline.schedule(event2)\n",
    "timeline.run()"
   ]
  },
  {
   "cell_type": "code",
   "execution_count": 243,
   "id": "648f9c06",
   "metadata": {},
   "outputs": [
    {
     "name": "stdout",
     "output_type": "stream",
     "text": [
      "(0.4999999999999999+0j)\n"
     ]
    }
   ],
   "source": [
    "print((sender.qubit.quantum_state.state)[0]**2)"
   ]
  },
  {
   "cell_type": "code",
   "execution_count": null,
   "id": "db437574",
   "metadata": {},
   "outputs": [],
   "source": []
  }
 ],
 "metadata": {
  "kernelspec": {
   "display_name": "sequence",
   "language": "python",
   "name": "python3"
  },
  "language_info": {
   "codemirror_mode": {
    "name": "ipython",
    "version": 3
   },
   "file_extension": ".py",
   "mimetype": "text/x-python",
   "name": "python",
   "nbconvert_exporter": "python",
   "pygments_lexer": "ipython3",
   "version": "3.13.5"
  }
 },
 "nbformat": 4,
 "nbformat_minor": 5
}
